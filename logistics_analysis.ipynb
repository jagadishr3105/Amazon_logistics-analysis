{
 "cells": [
  {
   "cell_type": "code",
   "execution_count": 4,
   "metadata": {},
   "outputs": [],
   "source": [
    "import numpy as np"
   ]
  },
  {
   "cell_type": "code",
   "execution_count": 5,
   "metadata": {},
   "outputs": [],
   "source": [
    "import pandas as pd\n",
    "import matplotlib.pyplot as plt\n",
    "import seaborn as sns"
   ]
  },
  {
   "cell_type": "code",
   "execution_count": 6,
   "metadata": {},
   "outputs": [],
   "source": [
    "file_path = \"/Users/jagadish/Desktop/amazon_delivery.csv\"\n",
    "df = pd.read_csv(file_path)"
   ]
  },
  {
   "cell_type": "code",
   "execution_count": 9,
   "metadata": {},
   "outputs": [
    {
     "data": {
      "text/html": [
       "<div>\n",
       "<style scoped>\n",
       "    .dataframe tbody tr th:only-of-type {\n",
       "        vertical-align: middle;\n",
       "    }\n",
       "\n",
       "    .dataframe tbody tr th {\n",
       "        vertical-align: top;\n",
       "    }\n",
       "\n",
       "    .dataframe thead th {\n",
       "        text-align: right;\n",
       "    }\n",
       "</style>\n",
       "<table border=\"1\" class=\"dataframe\">\n",
       "  <thead>\n",
       "    <tr style=\"text-align: right;\">\n",
       "      <th></th>\n",
       "      <th>Order_ID</th>\n",
       "      <th>Agent_Age</th>\n",
       "      <th>Agent_Rating</th>\n",
       "      <th>Store_Latitude</th>\n",
       "      <th>Store_Longitude</th>\n",
       "      <th>Drop_Latitude</th>\n",
       "      <th>Drop_Longitude</th>\n",
       "      <th>Order_Date</th>\n",
       "      <th>Order_Time</th>\n",
       "      <th>Pickup_Time</th>\n",
       "      <th>Weather</th>\n",
       "      <th>Traffic</th>\n",
       "      <th>Vehicle</th>\n",
       "      <th>Area</th>\n",
       "      <th>Delivery_Time</th>\n",
       "      <th>Category</th>\n",
       "    </tr>\n",
       "  </thead>\n",
       "  <tbody>\n",
       "    <tr>\n",
       "      <th>0</th>\n",
       "      <td>ialx566343618</td>\n",
       "      <td>37</td>\n",
       "      <td>4.9</td>\n",
       "      <td>22.745049</td>\n",
       "      <td>75.892471</td>\n",
       "      <td>22.765049</td>\n",
       "      <td>75.912471</td>\n",
       "      <td>2022-03-19</td>\n",
       "      <td>11:30:00</td>\n",
       "      <td>11:45:00</td>\n",
       "      <td>Sunny</td>\n",
       "      <td>High</td>\n",
       "      <td>motorcycle</td>\n",
       "      <td>Urban</td>\n",
       "      <td>120</td>\n",
       "      <td>Clothing</td>\n",
       "    </tr>\n",
       "    <tr>\n",
       "      <th>1</th>\n",
       "      <td>akqg208421122</td>\n",
       "      <td>34</td>\n",
       "      <td>4.5</td>\n",
       "      <td>12.913041</td>\n",
       "      <td>77.683237</td>\n",
       "      <td>13.043041</td>\n",
       "      <td>77.813237</td>\n",
       "      <td>2022-03-25</td>\n",
       "      <td>19:45:00</td>\n",
       "      <td>19:50:00</td>\n",
       "      <td>Stormy</td>\n",
       "      <td>Jam</td>\n",
       "      <td>scooter</td>\n",
       "      <td>Metropolitian</td>\n",
       "      <td>165</td>\n",
       "      <td>Electronics</td>\n",
       "    </tr>\n",
       "    <tr>\n",
       "      <th>2</th>\n",
       "      <td>njpu434582536</td>\n",
       "      <td>23</td>\n",
       "      <td>4.4</td>\n",
       "      <td>12.914264</td>\n",
       "      <td>77.678400</td>\n",
       "      <td>12.924264</td>\n",
       "      <td>77.688400</td>\n",
       "      <td>2022-03-19</td>\n",
       "      <td>08:30:00</td>\n",
       "      <td>08:45:00</td>\n",
       "      <td>Sandstorms</td>\n",
       "      <td>Low</td>\n",
       "      <td>motorcycle</td>\n",
       "      <td>Urban</td>\n",
       "      <td>130</td>\n",
       "      <td>Sports</td>\n",
       "    </tr>\n",
       "    <tr>\n",
       "      <th>3</th>\n",
       "      <td>rjto796129700</td>\n",
       "      <td>38</td>\n",
       "      <td>4.7</td>\n",
       "      <td>11.003669</td>\n",
       "      <td>76.976494</td>\n",
       "      <td>11.053669</td>\n",
       "      <td>77.026494</td>\n",
       "      <td>2022-04-05</td>\n",
       "      <td>18:00:00</td>\n",
       "      <td>18:10:00</td>\n",
       "      <td>Sunny</td>\n",
       "      <td>Medium</td>\n",
       "      <td>motorcycle</td>\n",
       "      <td>Metropolitian</td>\n",
       "      <td>105</td>\n",
       "      <td>Cosmetics</td>\n",
       "    </tr>\n",
       "    <tr>\n",
       "      <th>4</th>\n",
       "      <td>zguw716275638</td>\n",
       "      <td>32</td>\n",
       "      <td>4.6</td>\n",
       "      <td>12.972793</td>\n",
       "      <td>80.249982</td>\n",
       "      <td>13.012793</td>\n",
       "      <td>80.289982</td>\n",
       "      <td>2022-03-26</td>\n",
       "      <td>13:30:00</td>\n",
       "      <td>13:45:00</td>\n",
       "      <td>Cloudy</td>\n",
       "      <td>High</td>\n",
       "      <td>scooter</td>\n",
       "      <td>Metropolitian</td>\n",
       "      <td>150</td>\n",
       "      <td>Toys</td>\n",
       "    </tr>\n",
       "  </tbody>\n",
       "</table>\n",
       "</div>"
      ],
      "text/plain": [
       "        Order_ID  Agent_Age  Agent_Rating  Store_Latitude  Store_Longitude  \\\n",
       "0  ialx566343618         37           4.9       22.745049        75.892471   \n",
       "1  akqg208421122         34           4.5       12.913041        77.683237   \n",
       "2  njpu434582536         23           4.4       12.914264        77.678400   \n",
       "3  rjto796129700         38           4.7       11.003669        76.976494   \n",
       "4  zguw716275638         32           4.6       12.972793        80.249982   \n",
       "\n",
       "   Drop_Latitude  Drop_Longitude  Order_Date Order_Time Pickup_Time  \\\n",
       "0      22.765049       75.912471  2022-03-19   11:30:00    11:45:00   \n",
       "1      13.043041       77.813237  2022-03-25   19:45:00    19:50:00   \n",
       "2      12.924264       77.688400  2022-03-19   08:30:00    08:45:00   \n",
       "3      11.053669       77.026494  2022-04-05   18:00:00    18:10:00   \n",
       "4      13.012793       80.289982  2022-03-26   13:30:00    13:45:00   \n",
       "\n",
       "      Weather  Traffic      Vehicle            Area  Delivery_Time  \\\n",
       "0       Sunny    High   motorcycle           Urban             120   \n",
       "1      Stormy     Jam      scooter   Metropolitian             165   \n",
       "2  Sandstorms     Low   motorcycle           Urban             130   \n",
       "3       Sunny  Medium   motorcycle   Metropolitian             105   \n",
       "4      Cloudy    High      scooter   Metropolitian             150   \n",
       "\n",
       "      Category  \n",
       "0     Clothing  \n",
       "1  Electronics  \n",
       "2       Sports  \n",
       "3    Cosmetics  \n",
       "4         Toys  "
      ]
     },
     "execution_count": 9,
     "metadata": {},
     "output_type": "execute_result"
    }
   ],
   "source": [
    "df.head()\n"
   ]
  },
  {
   "cell_type": "code",
   "execution_count": 11,
   "metadata": {},
   "outputs": [
    {
     "data": {
      "text/plain": [
       "(43739, 16)"
      ]
     },
     "execution_count": 11,
     "metadata": {},
     "output_type": "execute_result"
    }
   ],
   "source": [
    "df.shape"
   ]
  },
  {
   "cell_type": "code",
   "execution_count": 27,
   "metadata": {},
   "outputs": [
    {
     "name": "stdout",
     "output_type": "stream",
     "text": [
      "Order_ID           0\n",
      "Agent_Age          0\n",
      "Agent_Rating       0\n",
      "Store_Latitude     0\n",
      "Store_Longitude    0\n",
      "Drop_Latitude      0\n",
      "Drop_Longitude     0\n",
      "Order_Date         0\n",
      "Order_Time         0\n",
      "Pickup_Time        0\n",
      "Weather            0\n",
      "Traffic            0\n",
      "Vehicle            0\n",
      "Area               0\n",
      "Delivery_Time      0\n",
      "Category           0\n",
      "dtype: int64\n"
     ]
    }
   ],
   "source": [
    "print(df.isnull().sum())"
   ]
  },
  {
   "cell_type": "code",
   "execution_count": 15,
   "metadata": {},
   "outputs": [
    {
     "data": {
      "text/html": [
       "<div>\n",
       "<style scoped>\n",
       "    .dataframe tbody tr th:only-of-type {\n",
       "        vertical-align: middle;\n",
       "    }\n",
       "\n",
       "    .dataframe tbody tr th {\n",
       "        vertical-align: top;\n",
       "    }\n",
       "\n",
       "    .dataframe thead th {\n",
       "        text-align: right;\n",
       "    }\n",
       "</style>\n",
       "<table border=\"1\" class=\"dataframe\">\n",
       "  <thead>\n",
       "    <tr style=\"text-align: right;\">\n",
       "      <th></th>\n",
       "      <th>Agent_Age</th>\n",
       "      <th>Agent_Rating</th>\n",
       "      <th>Store_Latitude</th>\n",
       "      <th>Store_Longitude</th>\n",
       "      <th>Drop_Latitude</th>\n",
       "      <th>Drop_Longitude</th>\n",
       "      <th>Delivery_Time</th>\n",
       "    </tr>\n",
       "  </thead>\n",
       "  <tbody>\n",
       "    <tr>\n",
       "      <th>count</th>\n",
       "      <td>43739.000000</td>\n",
       "      <td>43685.000000</td>\n",
       "      <td>43739.000000</td>\n",
       "      <td>43739.000000</td>\n",
       "      <td>43739.000000</td>\n",
       "      <td>43739.000000</td>\n",
       "      <td>43739.000000</td>\n",
       "    </tr>\n",
       "    <tr>\n",
       "      <th>mean</th>\n",
       "      <td>29.567137</td>\n",
       "      <td>4.633780</td>\n",
       "      <td>17.210960</td>\n",
       "      <td>70.661177</td>\n",
       "      <td>17.459031</td>\n",
       "      <td>70.821842</td>\n",
       "      <td>124.905645</td>\n",
       "    </tr>\n",
       "    <tr>\n",
       "      <th>std</th>\n",
       "      <td>5.815155</td>\n",
       "      <td>0.334716</td>\n",
       "      <td>7.764225</td>\n",
       "      <td>21.475005</td>\n",
       "      <td>7.342950</td>\n",
       "      <td>21.153148</td>\n",
       "      <td>51.915451</td>\n",
       "    </tr>\n",
       "    <tr>\n",
       "      <th>min</th>\n",
       "      <td>15.000000</td>\n",
       "      <td>1.000000</td>\n",
       "      <td>-30.902872</td>\n",
       "      <td>-88.366217</td>\n",
       "      <td>0.010000</td>\n",
       "      <td>0.010000</td>\n",
       "      <td>10.000000</td>\n",
       "    </tr>\n",
       "    <tr>\n",
       "      <th>25%</th>\n",
       "      <td>25.000000</td>\n",
       "      <td>4.500000</td>\n",
       "      <td>12.933298</td>\n",
       "      <td>73.170283</td>\n",
       "      <td>12.985996</td>\n",
       "      <td>73.280000</td>\n",
       "      <td>90.000000</td>\n",
       "    </tr>\n",
       "    <tr>\n",
       "      <th>50%</th>\n",
       "      <td>30.000000</td>\n",
       "      <td>4.700000</td>\n",
       "      <td>18.551440</td>\n",
       "      <td>75.898497</td>\n",
       "      <td>18.633626</td>\n",
       "      <td>76.002574</td>\n",
       "      <td>125.000000</td>\n",
       "    </tr>\n",
       "    <tr>\n",
       "      <th>75%</th>\n",
       "      <td>35.000000</td>\n",
       "      <td>4.900000</td>\n",
       "      <td>22.732225</td>\n",
       "      <td>78.045359</td>\n",
       "      <td>22.785049</td>\n",
       "      <td>78.104095</td>\n",
       "      <td>160.000000</td>\n",
       "    </tr>\n",
       "    <tr>\n",
       "      <th>max</th>\n",
       "      <td>50.000000</td>\n",
       "      <td>6.000000</td>\n",
       "      <td>30.914057</td>\n",
       "      <td>88.433452</td>\n",
       "      <td>31.054057</td>\n",
       "      <td>88.563452</td>\n",
       "      <td>270.000000</td>\n",
       "    </tr>\n",
       "  </tbody>\n",
       "</table>\n",
       "</div>"
      ],
      "text/plain": [
       "          Agent_Age  Agent_Rating  Store_Latitude  Store_Longitude  \\\n",
       "count  43739.000000  43685.000000    43739.000000     43739.000000   \n",
       "mean      29.567137      4.633780       17.210960        70.661177   \n",
       "std        5.815155      0.334716        7.764225        21.475005   \n",
       "min       15.000000      1.000000      -30.902872       -88.366217   \n",
       "25%       25.000000      4.500000       12.933298        73.170283   \n",
       "50%       30.000000      4.700000       18.551440        75.898497   \n",
       "75%       35.000000      4.900000       22.732225        78.045359   \n",
       "max       50.000000      6.000000       30.914057        88.433452   \n",
       "\n",
       "       Drop_Latitude  Drop_Longitude  Delivery_Time  \n",
       "count   43739.000000    43739.000000   43739.000000  \n",
       "mean       17.459031       70.821842     124.905645  \n",
       "std         7.342950       21.153148      51.915451  \n",
       "min         0.010000        0.010000      10.000000  \n",
       "25%        12.985996       73.280000      90.000000  \n",
       "50%        18.633626       76.002574     125.000000  \n",
       "75%        22.785049       78.104095     160.000000  \n",
       "max        31.054057       88.563452     270.000000  "
      ]
     },
     "execution_count": 15,
     "metadata": {},
     "output_type": "execute_result"
    }
   ],
   "source": [
    "df.describe()"
   ]
  },
  {
   "cell_type": "code",
   "execution_count": 17,
   "metadata": {},
   "outputs": [
    {
     "name": "stderr",
     "output_type": "stream",
     "text": [
      "/var/folders/yr/wwmktxzn6jnbptqcbngzhkl40000gn/T/ipykernel_5988/2931660107.py:1: FutureWarning: A value is trying to be set on a copy of a DataFrame or Series through chained assignment using an inplace method.\n",
      "The behavior will change in pandas 3.0. This inplace method will never work because the intermediate object on which we are setting values always behaves as a copy.\n",
      "\n",
      "For example, when doing 'df[col].method(value, inplace=True)', try using 'df.method({col: value}, inplace=True)' or df[col] = df[col].method(value) instead, to perform the operation inplace on the original object.\n",
      "\n",
      "\n",
      "  df['Agent_Rating'].fillna(df['Agent_Rating'].mean(), inplace = True)\n"
     ]
    }
   ],
   "source": [
    "df['Agent_Rating'].fillna(df['Agent_Rating'].mean(), inplace = True)"
   ]
  },
  {
   "cell_type": "code",
   "execution_count": 18,
   "metadata": {},
   "outputs": [],
   "source": [
    "df['Weather'] = df['Weather'].fillna(df['Weather'].mode()[0])\n"
   ]
  },
  {
   "cell_type": "code",
   "execution_count": 22,
   "metadata": {},
   "outputs": [
    {
     "name": "stdout",
     "output_type": "stream",
     "text": [
      "Order_ID           0\n",
      "Agent_Age          0\n",
      "Agent_Rating       0\n",
      "Store_Latitude     0\n",
      "Store_Longitude    0\n",
      "Drop_Latitude      0\n",
      "Drop_Longitude     0\n",
      "Order_Date         0\n",
      "Order_Time         0\n",
      "Pickup_Time        0\n",
      "Weather            0\n",
      "Traffic            0\n",
      "Vehicle            0\n",
      "Area               0\n",
      "Delivery_Time      0\n",
      "Category           0\n",
      "dtype: int64\n"
     ]
    }
   ],
   "source": [
    "print(df.isnull().sum())"
   ]
  },
  {
   "cell_type": "code",
   "execution_count": 26,
   "metadata": {},
   "outputs": [
    {
     "name": "stdout",
     "output_type": "stream",
     "text": [
      "Unique values in Weather: ['Sunny' 'Stormy' 'Sandstorms' 'Cloudy' 'Fog' 'Windy']\n",
      "Unique values in Traffic: ['High ' 'Jam ' 'Low ' 'Medium ' 'NaN ']\n",
      "Unique values in Vehicle: ['motorcycle ' 'scooter ' 'van' 'bicycle ']\n",
      "Unique values in Area: ['Urban ' 'Metropolitian ' 'Semi-Urban ' 'Other']\n",
      "Unique values in Category: ['Clothing' 'Electronics' 'Sports' 'Cosmetics' 'Toys' 'Snacks' 'Shoes'\n",
      " 'Apparel' 'Jewelry' 'Outdoors' 'Grocery' 'Books' 'Kitchen' 'Home'\n",
      " 'Pet Supplies' 'Skincare']\n"
     ]
    }
   ],
   "source": [
    "# Unique values in categorical columns\n",
    "categorical_columns = ['Weather', 'Traffic', 'Vehicle', 'Area', 'Category']\n",
    "for col in categorical_columns:\n",
    "    print(f\"Unique values in {col}: {df[col].unique()}\")\n"
   ]
  },
  {
   "cell_type": "code",
   "execution_count": 29,
   "metadata": {},
   "outputs": [
    {
     "name": "stdout",
     "output_type": "stream",
     "text": [
      "Category\n",
      "Apparel         132.048789\n",
      "Books           131.021601\n",
      "Clothing        130.483690\n",
      "Cosmetics       132.902503\n",
      "Electronics     130.837136\n",
      "Grocery          26.539576\n",
      "Home            130.955307\n",
      "Jewelry         130.753034\n",
      "Kitchen         132.326973\n",
      "Outdoors        131.059337\n",
      "Pet Supplies    131.291822\n",
      "Shoes           131.151538\n",
      "Skincare        132.027417\n",
      "Snacks          131.904332\n",
      "Sports          132.247150\n",
      "Toys            129.395901\n",
      "Name: Delivery_Time, dtype: float64\n"
     ]
    }
   ],
   "source": [
    "# caluculating average delivery time by category \n",
    "avg_delivery_time_by_category = df.groupby('Category')['Delivery_Time'].mean()\n",
    "print(avg_delivery_time_by_category)\n"
   ]
  },
  {
   "cell_type": "code",
   "execution_count": 12,
   "metadata": {},
   "outputs": [
    {
     "name": "stdout",
     "output_type": "stream",
     "text": [
      "Weather\n",
      "Cloudy    35.0\n",
      "Rainy     42.5\n",
      "Sunny     40.0\n",
      "Name: Delivery_Time, dtype: float64\n"
     ]
    }
   ],
   "source": [
    "# Average delivery time by weather condition\n",
    "avg_delivery_time_by_weather = df.groupby('Weather')['Delivery_Time'].mean()\n",
    "print(avg_delivery_time_by_weather)"
   ]
  },
  {
   "cell_type": "code",
   "execution_count": 31,
   "metadata": {},
   "outputs": [
    {
     "name": "stdout",
     "output_type": "stream",
     "text": [
      "Area\n",
      "Metropolitian     129.702459\n",
      "Other             104.464851\n",
      "Semi-Urban        238.552632\n",
      "Urban             109.434520\n",
      "Name: Delivery_Time, dtype: float64\n"
     ]
    }
   ],
   "source": [
    "#calculate average delivery time by are \n",
    "avg_delivery_time_by_area = df.groupby('Area')['Delivery_Time'].mean()\n",
    "print(avg_delivery_time_by_area)"
   ]
  },
  {
   "cell_type": "code",
   "execution_count": 37,
   "metadata": {},
   "outputs": [
    {
     "name": "stdout",
     "output_type": "stream",
     "text": [
      "Traffic\n",
      "High      129.424115\n",
      "Jam       147.758980\n",
      "Low       101.354557\n",
      "Medium    126.839669\n",
      "Name: Delivery_Time, dtype: float64\n"
     ]
    }
   ],
   "source": [
    "#imapct of traffic on delivery time\n",
    "avg_delivery_time_by_traffic = df.groupby('Traffic')['Delivery_Time'].mean()\n",
    "print(avg_delivery_time_by_traffic)"
   ]
  },
  {
   "cell_type": "code",
   "execution_count": 33,
   "metadata": {},
   "outputs": [],
   "source": [
    "df['Traffic'] = df['Traffic'].str.strip()\n"
   ]
  },
  {
   "cell_type": "code",
   "execution_count": 36,
   "metadata": {},
   "outputs": [],
   "source": [
    "import numpy as np\n",
    "df['Traffic'] = df['Traffic'].replace('NaN', np.nan)\n"
   ]
  },
  {
   "cell_type": "code",
   "execution_count": 38,
   "metadata": {},
   "outputs": [
    {
     "data": {
      "image/png": "[encoded data removed]",
      "text/plain": [
       "<Figure size 640x480 with 1 Axes>"
      ]
     },
     "metadata": {},
     "output_type": "display_data"
    }
   ],
   "source": [
    "# Bar plot for delivery time by traffic condition\n",
    "avg_delivery_time_by_traffic.plot(kind='bar', title='Delivery Time by Traffic Condition', ylabel='Average Delivery Time', xlabel='Traffic Condition')\n",
    "plt.show()\n"
   ]
  },
  {
   "cell_type": "code",
   "execution_count": 39,
   "metadata": {},
   "outputs": [
    {
     "name": "stdout",
     "output_type": "stream",
     "text": [
      "               Agent_Age  Agent_Rating  Delivery_Time\n",
      "Agent_Age       1.000000     -0.067889       0.254618\n",
      "Agent_Rating   -0.067889      1.000000      -0.289854\n",
      "Delivery_Time   0.254618     -0.289854       1.000000\n"
     ]
    }
   ],
   "source": [
    "#correlation analysis\n",
    "correlation_matrix = df[['Agent_Age', 'Agent_Rating', 'Delivery_Time']].corr()\n",
    "print(correlation_matrix)"
   ]
  },
  {
   "cell_type": "code",
   "execution_count": 42,
   "metadata": {},
   "outputs": [
    {
     "data": {
      "image/png": "[encoded data removed]",
      "text/plain": [
       "<Figure size 640x480 with 2 Axes>"
      ]
     },
     "metadata": {},
     "output_type": "display_data"
    }
   ],
   "source": [
    "# Bar plot: Delivery time by area and traffic\n",
    "\n",
    "# Group data by Area and Traffic, then calculate mean delivery time\n",
    "area_traffic_data = df.groupby(['Area', 'Traffic'])['Delivery_Time'].mean().unstack()\n",
    "\n",
    "# Plot heatmap\n",
    "sns.heatmap(area_traffic_data, annot=True, fmt=\".2f\", cmap=\"Blues\")\n",
    "plt.title(\"Average Delivery Time by Area and Traffic\")\n",
    "plt.ylabel(\"Area\")\n",
    "plt.xlabel(\"Traffic\")\n",
    "plt.show()\n"
   ]
  },
  {
   "cell_type": "code",
   "execution_count": 8,
   "metadata": {},
   "outputs": [
    {
     "name": "stdout",
     "output_type": "stream",
     "text": [
      "Agent_Age_Group\n",
      "18-25    109.185705\n",
      "26-35    128.153191\n",
      "36-50    139.792879\n",
      "51-65    150.000000\n",
      "Name: Delivery_Time, dtype: float64\n"
     ]
    },
    {
     "name": "stderr",
     "output_type": "stream",
     "text": [
      "/var/folders/yr/wwmktxzn6jnbptqcbngzhkl40000gn/T/ipykernel_1100/977634183.py:15: FutureWarning: The default of observed=False is deprecated and will be changed to True in a future version of pandas. Pass observed=False to retain current behavior or observed=True to adopt the future default and silence this warning.\n",
      "  avg_time_by_age_group = df.groupby('Agent_Age_Group')['Delivery_Time'].mean()\n"
     ]
    },
    {
     "data": {
      "image/png": "[encoded data removed]",
      "text/plain": [
       "<Figure size 640x480 with 1 Axes>"
      ]
     },
     "metadata": {},
     "output_type": "display_data"
    }
   ],
   "source": [
    "import pandas as pd\n",
    "import matplotlib.pyplot as plt\n",
    "\n",
    "# Simulate example data\n",
    "data = {\n",
    "    'Agent_Age': [20, 30, 40, 55],\n",
    "    'Delivery_Time': [109.185705, 128.153191, 139.792879, 150.0]\n",
    "}\n",
    "df = pd.DataFrame(data)\n",
    "\n",
    "# Add 'Agent_Age_Group' based on age bins\n",
    "df['Agent_Age_Group'] = pd.cut(df['Agent_Age'], bins=[18, 25, 35, 50, 65], labels=['18-25', '26-35', '36-50', '51-65'])\n",
    "\n",
    "# Average delivery time by age group\n",
    "avg_time_by_age_group = df.groupby('Agent_Age_Group')['Delivery_Time'].mean()\n",
    "print(avg_time_by_age_group)\n",
    "\n",
    "# Plot the results\n",
    "avg_time_by_age_group.plot(kind='bar', title='Delivery Time by Agent Age Group', ylabel='Average Delivery Time', xlabel='Age Group')\n",
    "plt.show()\n",
    "\n"
   ]
  },
  {
   "cell_type": "code",
   "execution_count": 13,
   "metadata": {},
   "outputs": [
    {
     "data": {
      "image/png": "[encoded data removed]",
      "text/plain": [
       "<Figure size 640x480 with 1 Axes>"
      ]
     },
     "metadata": {},
     "output_type": "display_data"
    }
   ],
   "source": [
    "avg_delivery_time_by_weather.plot(kind='bar', title='Delivery Time by Weather Condition', ylabel='Average Delivery Time', xlabel='Weather Condition')\n",
    "plt.show()\n"
   ]
  }
 ],
 "metadata": {
  "kernelspec": {
   "display_name": "Python 3",
   "language": "python",
   "name": "python3"
  },
  "language_info": {
   "codemirror_mode": {
    "name": "ipython",
    "version": 3
   },
   "file_extension": ".py",
   "mimetype": "text/x-python",
   "name": "python",
   "nbconvert_exporter": "python",
   "pygments_lexer": "ipython3",
   "version": "3.12.3"
  }
 },
 "nbformat": 4,
 "nbformat_minor": 2
}
